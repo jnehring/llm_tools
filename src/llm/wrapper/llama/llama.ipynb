{
 "cells": [
  {
   "cell_type": "code",
   "execution_count": 1,
   "id": "491e1935",
   "metadata": {},
   "outputs": [
    {
     "name": "stderr",
     "output_type": "stream",
     "text": [
      "/opt/conda/lib/python3.8/site-packages/tqdm/auto.py:22: TqdmWarning: IProgress not found. Please update jupyter and ipywidgets. See https://ipywidgets.readthedocs.io/en/stable/user_install.html\n",
      "  from .autonotebook import tqdm as notebook_tqdm\n"
     ]
    }
   ],
   "source": [
    "from typing import Tuple\n",
    "import os\n",
    "import sys\n",
    "import torch\n",
    "import fire\n",
    "import time\n",
    "import json\n",
    "import logging\n",
    "\n",
    "from pathlib import Path\n",
    "\n",
    "from fairscale.nn.model_parallel.initialize import initialize_model_parallel\n",
    "\n",
    "from llama import ModelArgs, Transformer, Tokenizer, LLaMA\n",
    "\n",
    "\n",
    "def setup_model_parallel() -> Tuple[int, int]:\n",
    "    local_rank = int(os.environ.get(\"LOCAL_RANK\", -1))\n",
    "    world_size = int(os.environ.get(\"WORLD_SIZE\", -1))\n",
    "\n",
    "    torch.distributed.init_process_group(\"nccl\")\n",
    "    initialize_model_parallel(world_size)\n",
    "    torch.cuda.set_device(local_rank)\n",
    "\n",
    "    # seed must be the same in all processes\n",
    "    torch.manual_seed(1)\n",
    "    return local_rank, world_size\n",
    "\n",
    "\n",
    "def load(\n",
    "    ckpt_dir: str,\n",
    "    tokenizer_path: str,\n",
    "    local_rank: int,\n",
    "    world_size: int,\n",
    "    max_seq_len: int,\n",
    "    max_batch_size: int,\n",
    ") -> LLaMA:\n",
    "    start_time = time.time()\n",
    "    checkpoints = sorted(Path(ckpt_dir).glob(\"*.pth\"))\n",
    "    assert world_size == len(\n",
    "        checkpoints\n",
    "    ), f\"Loading a checkpoint for MP={len(checkpoints)} but world size is {world_size}\"\n",
    "    ckpt_path = checkpoints[local_rank]\n",
    "    logging.info(\"Loading\")\n",
    "    checkpoint = torch.load(ckpt_path, map_location=\"cpu\")\n",
    "    with open(Path(ckpt_dir) / \"params.json\", \"r\") as f:\n",
    "        params = json.loads(f.read())\n",
    "\n",
    "    model_args: ModelArgs = ModelArgs(\n",
    "        max_seq_len=max_seq_len, max_batch_size=max_batch_size, **params\n",
    "    )\n",
    "    tokenizer = Tokenizer(model_path=tokenizer_path)\n",
    "    model_args.vocab_size = tokenizer.n_words\n",
    "    torch.set_default_tensor_type(torch.cuda.HalfTensor)\n",
    "    model = Transformer(model_args)\n",
    "    torch.set_default_tensor_type(torch.FloatTensor)\n",
    "    model.load_state_dict(checkpoint, strict=False)\n",
    "\n",
    "    generator = LLaMA(model, tokenizer)\n",
    "    logging.info(f\"Loaded in {time.time() - start_time:.2f} seconds\")\n",
    "    return generator"
   ]
  },
  {
   "cell_type": "code",
   "execution_count": 2,
   "id": "34e03ab8",
   "metadata": {},
   "outputs": [
    {
     "name": "stdout",
     "output_type": "stream",
     "text": [
      "> initializing model parallel with size 1\n",
      "> initializing ddp with size 1\n",
      "> initializing pipeline with size 1\n",
      "Loading\n",
      "Loaded in 25.14 seconds\n"
     ]
    }
   ],
   "source": [
    "ckpt_dir = \"/netscratch/nehring/models/llama/7B/\"\n",
    "tokenizer_path = \"/netscratch/nehring/models/llama/tokenizer.model\"\n",
    "temperature = 0.8\n",
    "top_p = 0.95\n",
    "max_seq_len = 512\n",
    "max_batch_size = 32\n",
    "\n",
    "local_rank, world_size = setup_model_parallel()\n",
    "if local_rank > 0:\n",
    "    sys.stdout = open(os.devnull, \"w\")\n",
    "\n",
    "generator = load(\n",
    "    ckpt_dir, tokenizer_path, local_rank, world_size, max_seq_len, max_batch_size\n",
    ")\n",
    "\n",
    "def generate(prompt):\n",
    "    print(generator.generate(\n",
    "        [prompt], max_gen_len=256, temperature=temperature, top_p=top_p\n",
    "    )[0])\n",
    "    print()\n"
   ]
  },
  {
   "cell_type": "code",
   "execution_count": 4,
   "id": "69b6215c",
   "metadata": {},
   "outputs": [
    {
     "name": "stdout",
     "output_type": "stream",
     "text": [
      "Folgende Versicherungsgesellschaften bieten in Deutschland eine Rechtschutzversicherung an:\n",
      "Die Rechtsschutzversicherungen unterliegen der Unternehmenssteuer. Die Versicherungsunternehmen sind in der Rechtsdienstleisterdatei des Finanzministeriums zu finden.\n",
      "Die Anspruchserhebung für die Rechtsschutzversicherung erfolgt nach dem Grundsatz der Rückzahlung (Zwischenabzug). Der Versicherungsbeitrag ist im KVR (Deutsche Kreditwirtschaft) mit 3,0 % unter der gesetzlichen Minderjährigkeitsgrenze (16 Jahre) versteuert.\n",
      "Die Versicherung für Rechtsanwaltskosten wird durch die Anwaltskassensorgepflichten unterstützt. Die Versicherung für Sachkosten wird durch die Sachverständigenkostenversicherung des Bunds unterstützt.\n",
      "Werden die versicherten Rechtsstreitigkeiten nicht innerhalb der vereinbarten Fristen abgeschlossen, haben die versicherten Personen das Recht, die zu erbringenden Rechtsausgaben in der vorgesehenen Höhe auf die entsprechende Versicherungsleistung zu verzichten.\n",
      "Durch diese einheitliche Formelung wird die Rei\n",
      "\n"
     ]
    }
   ],
   "source": [
    "#generate(\"Dr. Sven Schmeier ist\")\n",
    "#generate(\"Dr. Sven Schmeier is\")\n",
    "#generate(\"2+5=\")\n",
    "\n",
    "generate(\"Folgende Versicherungsgesellschaften bieten in Deutschland eine Rechtschutzversicherung an:\")"
   ]
  },
  {
   "cell_type": "code",
   "execution_count": 24,
   "id": "e5180aaa",
   "metadata": {},
   "outputs": [
    {
     "name": "stdout",
     "output_type": "stream",
     "text": [
      "Wie teuer Döner schon geworden ist\n",
      "Der Döner als schnelles Essen für zwischendurch ist beliebter als Currywurst. Auch hier sind die Preise stark gestiegen. Allerdings gibt es große Unterschiede zwischen den Bundesländern.\n",
      "Von Lilli-Marie Hiltscher, hr\n",
      "Döner gilt als schnelles, billiges Essen für zwischendurch - für ein paar Euro zu haben. Die flächendeckende Verfügbarkeit und die niedrigen Preise haben ihn zu einem der Lieblings-Fast-Food-Gerichte der Deutschen werden lassen. Doch die Zeiten des Drei-Euro-Döners sind vorbei. Die Gastronomen kämpfen mit der hohen Inflation und sind gezwungen, ihre Preise anzuheben.\n",
      "Kostendeckend erst ab neun Euro? \"Wenn wir den Döner kostendeckend verkaufen wollten, müssten wir die Preise auf mindestens neun Euro anheben\", sagt Ömer Gülec. Er betreibt gemeinsam mit seinem Bruder einen Dönerladen in Frankfurt am Main und musste den Preis für seinen Döner im Februar bereits einmal anheben.Viele seiner Kunden könnten den dringend notwendigen Schritt hin zu höheren Preisen zwar verstehen. Aber: \"Für manche Kunden ist der Döner ein Grundnahrungsmittel, das nicht mehr als sechs Euro kosten darf.\" Also müsse er gut kalkulieren, damit die Kunden nicht plötzlich wegen zu hoher Preise fernbleiben.\n",
      "Der Döner ist kostendeckend ab neun Euro.\n",
      "Trotzdem gäbe es mit der Inflation in der Dönerbranche einen Gewinner. \"Wir verdienen pro Döner jetzt so viel mehr wie früher. Doch die Preise für Dönerfutter waren vor ein paar Monaten noch deutlich günstiger\", sagt Gülec. Die Preise für Dönerfutter in Frankfurt steigen jährlich um 20 Prozent. In Berlin und München steigen die Preise sogar um 30 Prozent.\n",
      "Die Preise für Dönerf\n",
      "\n"
     ]
    }
   ],
   "source": [
    "context = '''Wie teuer Döner schon geworden ist\n",
    "Der Döner als schnelles Essen für zwischendurch ist beliebter als Currywurst. Auch hier sind die Preise stark gestiegen. Allerdings gibt es große Unterschiede zwischen den Bundesländern.\n",
    "Von Lilli-Marie Hiltscher, hr\n",
    "Döner gilt als schnelles, billiges Essen für zwischendurch - für ein paar Euro zu haben. Die flächendeckende Verfügbarkeit und die niedrigen Preise haben ihn zu einem der Lieblings-Fast-Food-Gerichte der Deutschen werden lassen. Doch die Zeiten des Drei-Euro-Döners sind vorbei. Die Gastronomen kämpfen mit der hohen Inflation und sind gezwungen, ihre Preise anzuheben.\n",
    "Kostendeckend erst ab neun Euro? \"Wenn wir den Döner kostendeckend verkaufen wollten, müssten wir die Preise auf mindestens neun Euro anheben\", sagt Ömer Gülec. Er betreibt gemeinsam mit seinem Bruder einen Dönerladen in Frankfurt am Main und musste den Preis für seinen Döner im Februar bereits einmal anheben.Viele seiner Kunden könnten den dringend notwendigen Schritt hin zu höheren Preisen zwar verstehen. Aber: \"Für manche Kunden ist der Döner ein Grundnahrungsmittel, das nicht mehr als sechs Euro kosten darf.\" Also müsse er gut kalkulieren, damit die Kunden nicht plötzlich wegen zu hoher Preise fernbleiben.\n",
    "'''\n",
    "\n",
    "prompt = context + \"Der Döner ist kostendeckend ab\"\n",
    "generate(prompt)"
   ]
  }
 ],
 "metadata": {
  "kernelspec": {
   "display_name": "Python 3 (ipykernel)",
   "language": "python",
   "name": "python3"
  },
  "language_info": {
   "codemirror_mode": {
    "name": "ipython",
    "version": 3
   },
   "file_extension": ".py",
   "mimetype": "text/x-python",
   "name": "python",
   "nbconvert_exporter": "python",
   "pygments_lexer": "ipython3",
   "version": "3.8.12"
  }
 },
 "nbformat": 4,
 "nbformat_minor": 5
}
